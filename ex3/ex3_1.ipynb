{
 "cells": [
  {
   "cell_type": "markdown",
   "id": "e9a0a12a",
   "metadata": {},
   "source": [
    "# Data Science lab - Ex 3"
   ]
  },
  {
   "cell_type": "markdown",
   "id": "2bb21f52",
   "metadata": {},
   "source": [
    "In the previous exercise, I added the ***'number of suspects', 'number of apprehended suspects'***, and ***'Law enforcement effectiveness'*** features to each case, and calculated the mean of the effectiveness (_effectiveness being expressed as how many suspects out of the total of suspects in each crime were apprehended alive--_) over all crimes city-wise and state-wise.\n",
    "\n"
   ]
  },
  {
   "cell_type": "markdown",
   "id": "0e174a82",
   "metadata": {},
   "source": [
    "As those features don't really give us an insight on how many people were killed in each case, as they relate to a different kind of information, i deicede to discard them from the training set. _(effectiveness was measured by the number of appreheneded suspects, and this number wont be correlated with how many people died)_"
   ]
  },
  {
   "cell_type": "markdown",
   "id": "ff38d987",
   "metadata": {},
   "source": [
    "One feature though (that i added in ex2) , that i think might be useful is the modification i did on the **gun_stolen** column to contain **\"True\"** if a stolen gun was used in the crime, and **\"False\"** otherwise, so i'll add it up once we load the dataset."
   ]
  },
  {
   "cell_type": "markdown",
   "id": "914c553b",
   "metadata": {},
   "source": [
    "## Question 1"
   ]
  },
  {
   "cell_type": "markdown",
   "id": "be2ae6f3",
   "metadata": {},
   "source": [
    "Let's load up the data"
   ]
  },
  {
   "cell_type": "code",
   "execution_count": 1,
   "id": "43274ea5",
   "metadata": {},
   "outputs": [],
   "source": [
    "import pandas as pd"
   ]
  },
  {
   "cell_type": "code",
   "execution_count": 2,
   "id": "b7263370",
   "metadata": {},
   "outputs": [],
   "source": [
    "df = pd.read_csv(\"ex3.csv\")"
   ]
  },
  {
   "cell_type": "markdown",
   "id": "7dedd5ad",
   "metadata": {},
   "source": [
    "### Organizing The data"
   ]
  },
  {
   "cell_type": "markdown",
   "id": "2ce04e9d",
   "metadata": {},
   "source": [
    "Before we try to predict the **n_killed** feature, let's rid of the textual columns and clean the data, and rid of other columns that are not correlated (not the data science correlation) with **n_killed**, as we don't want our model to take them in consideration when predicting."
   ]
  },
  {
   "cell_type": "code",
   "execution_count": 3,
   "id": "64cacc65",
   "metadata": {},
   "outputs": [],
   "source": [
    "unwanted_cols = [\"Unnamed: 0\",\n",
    "                 #\"n_killed\",\n",
    "                 # \"n_injured\",\n",
    "                 \"participant_type\", # can be modified\n",
    "                 \"participant_status\",\n",
    "                 \"notes\",\n",
    "                 \"incident_id\", # leakage\n",
    "                 # \"date\", # does killing depend on the date? maybe\n",
    "                 \"address\",  # too specific and high cardinality - better to use county/state\"\n",
    "                 \"gun_type\", # not relevant\n",
    "                 \"incident_characteristics\",\n",
    "             # \"latitude\", # MIGHT be relevant\n",
    "             # \"longitude\", # MIGHT be relevant\n",
    "                 \"location_description\",\n",
    "                 \"participant_age\",\n",
    "                 \"participant_age_group\",\n",
    "             \"participant_gender\", # MIGHT be relevant, needs tuning\n",
    "                 \"participant_name\",\n",
    "                 \"participant_relationship\", \n",
    "             \"congressional_district\",# MIGHT be relevant - categorical data, should be checked\n",
    "             \"state_house_district\", # MIGHT be relevant - categotical data, should be checked\n",
    "             \"state_senate_district\" # MIGHT be relevant - categotical data, should be checked\n",
    "                ]\n",
    "df.drop(columns=unwanted_cols, inplace=True)"
   ]
  },
  {
   "cell_type": "markdown",
   "id": "f23691e1",
   "metadata": {},
   "source": [
    "And we're left with the following features"
   ]
  },
  {
   "cell_type": "code",
   "execution_count": 4,
   "id": "99ed5bf5",
   "metadata": {
    "scrolled": false
   },
   "outputs": [
    {
     "name": "stdout",
     "output_type": "stream",
     "text": [
      "<class 'pandas.core.frame.DataFrame'>\n",
      "RangeIndex: 30000 entries, 0 to 29999\n",
      "Data columns (total 9 columns):\n",
      " #   Column           Non-Null Count  Dtype  \n",
      "---  ------           --------------  -----  \n",
      " 0   date             30000 non-null  object \n",
      " 1   state            30000 non-null  object \n",
      " 2   city_or_county   30000 non-null  object \n",
      " 3   n_killed         30000 non-null  int64  \n",
      " 4   n_injured        30000 non-null  int64  \n",
      " 5   gun_stolen       17570 non-null  object \n",
      " 6   latitude         28982 non-null  float64\n",
      " 7   longitude        28982 non-null  float64\n",
      " 8   n_guns_involved  17577 non-null  float64\n",
      "dtypes: float64(3), int64(2), object(4)\n",
      "memory usage: 2.1+ MB\n"
     ]
    }
   ],
   "source": [
    "df.info()"
   ]
  },
  {
   "cell_type": "markdown",
   "id": "859c8d57",
   "metadata": {},
   "source": [
    "Leaving the dependant **n_killed** feature was no mistake, i intend to remove it after the Cleaning portion to the data :)"
   ]
  },
  {
   "cell_type": "markdown",
   "id": "9ad2a611",
   "metadata": {},
   "source": [
    "Our model had many categorical features, and many other that are non relevant, we tried to look for features that can _\"hint\"_ to us, or seem correlated with the number of people killed in the crime.\n",
    "\n",
    "But looking at the selection we chose, i can't seem but notice the number of missing values in the features **gun_stolen** and **n_guns_involved**, it pains me to think that imputing those to 0, or training a model to guess the true value will feel a bit superificial to the data, as the number of missing values is almost half the data set.\n",
    "\n",
    "not to mention that the feature **n_killed**, contains the value 'x::Unknown', which is also a non-NaN value for NaN.\n",
    "\n",
    "Which leaves me...no other choice...but to massacre my boy.\n",
    "\n",
    "Nonetheless,i'll be adding new features to replace the categorical data, that mat help in our prediction."
   ]
  },
  {
   "cell_type": "code",
   "execution_count": 5,
   "id": "e74ce591",
   "metadata": {},
   "outputs": [],
   "source": [
    "df.drop(columns=['gun_stolen', 'n_guns_involved'], inplace = True)"
   ]
  },
  {
   "cell_type": "markdown",
   "id": "200a93fa",
   "metadata": {},
   "source": [
    "### Imputation"
   ]
  },
  {
   "cell_type": "markdown",
   "id": "9b6bf4a4",
   "metadata": {},
   "source": [
    "In the previous section we deleted 2 features because there were alot of missing values in them.\n",
    "\n",
    "2 features remained with null values - **latitude and longitude**"
   ]
  },
  {
   "cell_type": "markdown",
   "id": "4493d6bd",
   "metadata": {},
   "source": [
    "I'll impute them with the mean of the county itself."
   ]
  },
  {
   "cell_type": "code",
   "execution_count": 6,
   "id": "ecde07e2",
   "metadata": {},
   "outputs": [],
   "source": [
    "for column in ['longitude', 'latitude']:\n",
    "    means = df.groupby(['city_or_county'])[column].mean()\n",
    "    df = df.set_index(['city_or_county'])\n",
    "    df[column] = df[column].fillna(means)\n",
    "    df = df.reset_index()"
   ]
  },
  {
   "cell_type": "markdown",
   "id": "a374b333",
   "metadata": {},
   "source": [
    "A few NaN values remain - 83, which are probably caused by cities/counties with no logitude/latitude data in the first place, and since they're so few we'll just remove them"
   ]
  },
  {
   "cell_type": "code",
   "execution_count": 7,
   "id": "fa5e404e",
   "metadata": {},
   "outputs": [],
   "source": [
    "df.dropna(inplace=True)"
   ]
  },
  {
   "cell_type": "markdown",
   "id": "1b931a9f",
   "metadata": {},
   "source": [
    "### Categorical Data"
   ]
  },
  {
   "cell_type": "markdown",
   "id": "d9691796",
   "metadata": {},
   "source": [
    "Since **state** and **city_or_county** are categorical features, both of which have high cardinality, I decided to encode them using ***frequency encoding***, due to the fact that numerical ordered (such as Hot encoding) methods will give higher value for data more than others, which i think would be problamatic in this case for predicting, and enlarge our dataset intensively."
   ]
  },
  {
   "cell_type": "markdown",
   "id": "6f1c6528",
   "metadata": {},
   "source": [
    "For each crime, we'll add a statistic that holds the number of crimes made in that month, county-wise and state-wise."
   ]
  },
  {
   "cell_type": "code",
   "execution_count": 8,
   "id": "98ddac24",
   "metadata": {},
   "outputs": [],
   "source": [
    "df['date'] = pd.to_datetime(df['date'],format='%Y-%m-%d').dt.to_period('M') # convert date to month-year"
   ]
  },
  {
   "cell_type": "code",
   "execution_count": 9,
   "id": "0b4e0303",
   "metadata": {},
   "outputs": [
    {
     "data": {
      "text/html": [
       "<div>\n",
       "<style scoped>\n",
       "    .dataframe tbody tr th:only-of-type {\n",
       "        vertical-align: middle;\n",
       "    }\n",
       "\n",
       "    .dataframe tbody tr th {\n",
       "        vertical-align: top;\n",
       "    }\n",
       "\n",
       "    .dataframe thead th {\n",
       "        text-align: right;\n",
       "    }\n",
       "</style>\n",
       "<table border=\"1\" class=\"dataframe\">\n",
       "  <thead>\n",
       "    <tr style=\"text-align: right;\">\n",
       "      <th></th>\n",
       "      <th></th>\n",
       "      <th>state_month_count</th>\n",
       "    </tr>\n",
       "    <tr>\n",
       "      <th>state</th>\n",
       "      <th>date</th>\n",
       "      <th></th>\n",
       "    </tr>\n",
       "  </thead>\n",
       "  <tbody>\n",
       "    <tr>\n",
       "      <th rowspan=\"5\" valign=\"top\">Alabama</th>\n",
       "      <th>2014-01</th>\n",
       "      <td>20</td>\n",
       "    </tr>\n",
       "    <tr>\n",
       "      <th>2014-02</th>\n",
       "      <td>15</td>\n",
       "    </tr>\n",
       "    <tr>\n",
       "      <th>2014-03</th>\n",
       "      <td>17</td>\n",
       "    </tr>\n",
       "    <tr>\n",
       "      <th>2014-04</th>\n",
       "      <td>14</td>\n",
       "    </tr>\n",
       "    <tr>\n",
       "      <th>2014-05</th>\n",
       "      <td>17</td>\n",
       "    </tr>\n",
       "    <tr>\n",
       "      <th>...</th>\n",
       "      <th>...</th>\n",
       "      <td>...</td>\n",
       "    </tr>\n",
       "    <tr>\n",
       "      <th rowspan=\"5\" valign=\"top\">Wyoming</th>\n",
       "      <th>2017-05</th>\n",
       "      <td>6</td>\n",
       "    </tr>\n",
       "    <tr>\n",
       "      <th>2017-06</th>\n",
       "      <td>2</td>\n",
       "    </tr>\n",
       "    <tr>\n",
       "      <th>2017-07</th>\n",
       "      <td>1</td>\n",
       "    </tr>\n",
       "    <tr>\n",
       "      <th>2017-08</th>\n",
       "      <td>2</td>\n",
       "    </tr>\n",
       "    <tr>\n",
       "      <th>2018-01</th>\n",
       "      <td>1</td>\n",
       "    </tr>\n",
       "  </tbody>\n",
       "</table>\n",
       "<p>2479 rows × 1 columns</p>\n",
       "</div>"
      ],
      "text/plain": [
       "                 state_month_count\n",
       "state   date                      \n",
       "Alabama 2014-01                 20\n",
       "        2014-02                 15\n",
       "        2014-03                 17\n",
       "        2014-04                 14\n",
       "        2014-05                 17\n",
       "...                            ...\n",
       "Wyoming 2017-05                  6\n",
       "        2017-06                  2\n",
       "        2017-07                  1\n",
       "        2017-08                  2\n",
       "        2018-01                  1\n",
       "\n",
       "[2479 rows x 1 columns]"
      ]
     },
     "execution_count": 9,
     "metadata": {},
     "output_type": "execute_result"
    }
   ],
   "source": [
    "month_state_stat = df.groupby(['state','date']).size()\n",
    "month_state_stat = month_state_stat.to_frame().rename(columns={0 : 'state_month_count'})\n",
    "month_state_stat"
   ]
  },
  {
   "cell_type": "markdown",
   "id": "4a5f80fc",
   "metadata": {},
   "source": [
    "Crime-count by month, for state\n",
    "\n",
    "Let's do that for county as well"
   ]
  },
  {
   "cell_type": "code",
   "execution_count": 10,
   "id": "3dccf40f",
   "metadata": {},
   "outputs": [
    {
     "data": {
      "text/html": [
       "<div>\n",
       "<style scoped>\n",
       "    .dataframe tbody tr th:only-of-type {\n",
       "        vertical-align: middle;\n",
       "    }\n",
       "\n",
       "    .dataframe tbody tr th {\n",
       "        vertical-align: top;\n",
       "    }\n",
       "\n",
       "    .dataframe thead th {\n",
       "        text-align: right;\n",
       "    }\n",
       "</style>\n",
       "<table border=\"1\" class=\"dataframe\">\n",
       "  <thead>\n",
       "    <tr style=\"text-align: right;\">\n",
       "      <th></th>\n",
       "      <th></th>\n",
       "      <th>county_month_count</th>\n",
       "    </tr>\n",
       "    <tr>\n",
       "      <th>city_or_county</th>\n",
       "      <th>date</th>\n",
       "      <th></th>\n",
       "    </tr>\n",
       "  </thead>\n",
       "  <tbody>\n",
       "    <tr>\n",
       "      <th rowspan=\"5\" valign=\"top\">Abbeville</th>\n",
       "      <th>2014-06</th>\n",
       "      <td>1</td>\n",
       "    </tr>\n",
       "    <tr>\n",
       "      <th>2014-08</th>\n",
       "      <td>1</td>\n",
       "    </tr>\n",
       "    <tr>\n",
       "      <th>2014-11</th>\n",
       "      <td>1</td>\n",
       "    </tr>\n",
       "    <tr>\n",
       "      <th>2015-01</th>\n",
       "      <td>1</td>\n",
       "    </tr>\n",
       "    <tr>\n",
       "      <th>2015-07</th>\n",
       "      <td>1</td>\n",
       "    </tr>\n",
       "    <tr>\n",
       "      <th>...</th>\n",
       "      <th>...</th>\n",
       "      <td>...</td>\n",
       "    </tr>\n",
       "    <tr>\n",
       "      <th rowspan=\"3\" valign=\"top\">Zion</th>\n",
       "      <th>2016-07</th>\n",
       "      <td>1</td>\n",
       "    </tr>\n",
       "    <tr>\n",
       "      <th>2017-08</th>\n",
       "      <td>1</td>\n",
       "    </tr>\n",
       "    <tr>\n",
       "      <th>2018-02</th>\n",
       "      <td>1</td>\n",
       "    </tr>\n",
       "    <tr>\n",
       "      <th>Zionsville</th>\n",
       "      <th>2016-02</th>\n",
       "      <td>1</td>\n",
       "    </tr>\n",
       "    <tr>\n",
       "      <th>Zwolle</th>\n",
       "      <th>2016-04</th>\n",
       "      <td>1</td>\n",
       "    </tr>\n",
       "  </tbody>\n",
       "</table>\n",
       "<p>17625 rows × 1 columns</p>\n",
       "</div>"
      ],
      "text/plain": [
       "                        county_month_count\n",
       "city_or_county date                       \n",
       "Abbeville      2014-06                   1\n",
       "               2014-08                   1\n",
       "               2014-11                   1\n",
       "               2015-01                   1\n",
       "               2015-07                   1\n",
       "...                                    ...\n",
       "Zion           2016-07                   1\n",
       "               2017-08                   1\n",
       "               2018-02                   1\n",
       "Zionsville     2016-02                   1\n",
       "Zwolle         2016-04                   1\n",
       "\n",
       "[17625 rows x 1 columns]"
      ]
     },
     "execution_count": 10,
     "metadata": {},
     "output_type": "execute_result"
    }
   ],
   "source": [
    "month_county_stat = df.groupby(['city_or_county','date']).size()\n",
    "month_county_stat= month_county_stat.to_frame().rename(columns={0 : 'county_month_count'})\n",
    "month_county_stat"
   ]
  },
  {
   "cell_type": "markdown",
   "id": "aad36c3f",
   "metadata": {},
   "source": [
    "For now, we'll merge the data with the original data frame, and get rid of the 'date' column, since now we hold more relevant information about the crime rate in each month for every crime."
   ]
  },
  {
   "cell_type": "code",
   "execution_count": 11,
   "id": "b97a2043",
   "metadata": {},
   "outputs": [],
   "source": [
    "df = df.merge(month_county_stat, on=['city_or_county','date'], how='left')"
   ]
  },
  {
   "cell_type": "markdown",
   "id": "0bf22fb5",
   "metadata": {},
   "source": [
    "And add the state crime count by date as well"
   ]
  },
  {
   "cell_type": "code",
   "execution_count": 12,
   "id": "1e9fbcfa",
   "metadata": {},
   "outputs": [],
   "source": [
    "df = df.merge(month_state_stat, on=['state','date'], how='left')"
   ]
  },
  {
   "cell_type": "code",
   "execution_count": 13,
   "id": "a5d84933",
   "metadata": {},
   "outputs": [
    {
     "data": {
      "text/html": [
       "<div>\n",
       "<style scoped>\n",
       "    .dataframe tbody tr th:only-of-type {\n",
       "        vertical-align: middle;\n",
       "    }\n",
       "\n",
       "    .dataframe tbody tr th {\n",
       "        vertical-align: top;\n",
       "    }\n",
       "\n",
       "    .dataframe thead th {\n",
       "        text-align: right;\n",
       "    }\n",
       "</style>\n",
       "<table border=\"1\" class=\"dataframe\">\n",
       "  <thead>\n",
       "    <tr style=\"text-align: right;\">\n",
       "      <th></th>\n",
       "      <th>city_or_county</th>\n",
       "      <th>date</th>\n",
       "      <th>state</th>\n",
       "      <th>n_killed</th>\n",
       "      <th>n_injured</th>\n",
       "      <th>latitude</th>\n",
       "      <th>longitude</th>\n",
       "      <th>county_month_count</th>\n",
       "      <th>state_month_count</th>\n",
       "    </tr>\n",
       "  </thead>\n",
       "  <tbody>\n",
       "    <tr>\n",
       "      <th>0</th>\n",
       "      <td>Humboldt County (county)</td>\n",
       "      <td>2017-06</td>\n",
       "      <td>California</td>\n",
       "      <td>0</td>\n",
       "      <td>0</td>\n",
       "      <td>40.7450</td>\n",
       "      <td>-123.8700</td>\n",
       "      <td>1</td>\n",
       "      <td>72</td>\n",
       "    </tr>\n",
       "    <tr>\n",
       "      <th>1</th>\n",
       "      <td>Gwinnett (county)</td>\n",
       "      <td>2015-12</td>\n",
       "      <td>Georgia</td>\n",
       "      <td>0</td>\n",
       "      <td>0</td>\n",
       "      <td>33.9997</td>\n",
       "      <td>-84.0148</td>\n",
       "      <td>1</td>\n",
       "      <td>35</td>\n",
       "    </tr>\n",
       "    <tr>\n",
       "      <th>2</th>\n",
       "      <td>Rocky Mount</td>\n",
       "      <td>2017-11</td>\n",
       "      <td>North Carolina</td>\n",
       "      <td>0</td>\n",
       "      <td>0</td>\n",
       "      <td>35.9934</td>\n",
       "      <td>-77.8066</td>\n",
       "      <td>1</td>\n",
       "      <td>32</td>\n",
       "    </tr>\n",
       "    <tr>\n",
       "      <th>3</th>\n",
       "      <td>Odessa</td>\n",
       "      <td>2016-08</td>\n",
       "      <td>Texas</td>\n",
       "      <td>0</td>\n",
       "      <td>0</td>\n",
       "      <td>31.8876</td>\n",
       "      <td>-102.3410</td>\n",
       "      <td>2</td>\n",
       "      <td>50</td>\n",
       "    </tr>\n",
       "    <tr>\n",
       "      <th>4</th>\n",
       "      <td>Amityville</td>\n",
       "      <td>2015-05</td>\n",
       "      <td>New York</td>\n",
       "      <td>1</td>\n",
       "      <td>2</td>\n",
       "      <td>40.6923</td>\n",
       "      <td>-73.4185</td>\n",
       "      <td>1</td>\n",
       "      <td>31</td>\n",
       "    </tr>\n",
       "    <tr>\n",
       "      <th>...</th>\n",
       "      <td>...</td>\n",
       "      <td>...</td>\n",
       "      <td>...</td>\n",
       "      <td>...</td>\n",
       "      <td>...</td>\n",
       "      <td>...</td>\n",
       "      <td>...</td>\n",
       "      <td>...</td>\n",
       "      <td>...</td>\n",
       "    </tr>\n",
       "    <tr>\n",
       "      <th>29912</th>\n",
       "      <td>Grovetown</td>\n",
       "      <td>2015-06</td>\n",
       "      <td>Georgia</td>\n",
       "      <td>0</td>\n",
       "      <td>0</td>\n",
       "      <td>33.4554</td>\n",
       "      <td>-82.2044</td>\n",
       "      <td>1</td>\n",
       "      <td>31</td>\n",
       "    </tr>\n",
       "    <tr>\n",
       "      <th>29913</th>\n",
       "      <td>Yonkers</td>\n",
       "      <td>2014-11</td>\n",
       "      <td>New York</td>\n",
       "      <td>0</td>\n",
       "      <td>0</td>\n",
       "      <td>40.9401</td>\n",
       "      <td>-73.8890</td>\n",
       "      <td>1</td>\n",
       "      <td>33</td>\n",
       "    </tr>\n",
       "    <tr>\n",
       "      <th>29914</th>\n",
       "      <td>Roy</td>\n",
       "      <td>2014-10</td>\n",
       "      <td>Washington</td>\n",
       "      <td>0</td>\n",
       "      <td>0</td>\n",
       "      <td>47.0030</td>\n",
       "      <td>-122.5430</td>\n",
       "      <td>1</td>\n",
       "      <td>8</td>\n",
       "    </tr>\n",
       "    <tr>\n",
       "      <th>29915</th>\n",
       "      <td>Newport News</td>\n",
       "      <td>2018-03</td>\n",
       "      <td>Virginia</td>\n",
       "      <td>0</td>\n",
       "      <td>1</td>\n",
       "      <td>36.9959</td>\n",
       "      <td>-76.4245</td>\n",
       "      <td>1</td>\n",
       "      <td>11</td>\n",
       "    </tr>\n",
       "    <tr>\n",
       "      <th>29916</th>\n",
       "      <td>Tulsa</td>\n",
       "      <td>2017-02</td>\n",
       "      <td>Oklahoma</td>\n",
       "      <td>0</td>\n",
       "      <td>0</td>\n",
       "      <td>36.1862</td>\n",
       "      <td>-95.9539</td>\n",
       "      <td>3</td>\n",
       "      <td>5</td>\n",
       "    </tr>\n",
       "  </tbody>\n",
       "</table>\n",
       "<p>29917 rows × 9 columns</p>\n",
       "</div>"
      ],
      "text/plain": [
       "                 city_or_county     date           state  n_killed  n_injured  \\\n",
       "0      Humboldt County (county)  2017-06      California         0          0   \n",
       "1             Gwinnett (county)  2015-12         Georgia         0          0   \n",
       "2                   Rocky Mount  2017-11  North Carolina         0          0   \n",
       "3                        Odessa  2016-08           Texas         0          0   \n",
       "4                    Amityville  2015-05        New York         1          2   \n",
       "...                         ...      ...             ...       ...        ...   \n",
       "29912                 Grovetown  2015-06         Georgia         0          0   \n",
       "29913                   Yonkers  2014-11        New York         0          0   \n",
       "29914                       Roy  2014-10      Washington         0          0   \n",
       "29915              Newport News  2018-03        Virginia         0          1   \n",
       "29916                     Tulsa  2017-02        Oklahoma         0          0   \n",
       "\n",
       "       latitude  longitude  county_month_count  state_month_count  \n",
       "0       40.7450  -123.8700                   1                 72  \n",
       "1       33.9997   -84.0148                   1                 35  \n",
       "2       35.9934   -77.8066                   1                 32  \n",
       "3       31.8876  -102.3410                   2                 50  \n",
       "4       40.6923   -73.4185                   1                 31  \n",
       "...         ...        ...                 ...                ...  \n",
       "29912   33.4554   -82.2044                   1                 31  \n",
       "29913   40.9401   -73.8890                   1                 33  \n",
       "29914   47.0030  -122.5430                   1                  8  \n",
       "29915   36.9959   -76.4245                   1                 11  \n",
       "29916   36.1862   -95.9539                   3                  5  \n",
       "\n",
       "[29917 rows x 9 columns]"
      ]
     },
     "execution_count": 13,
     "metadata": {},
     "output_type": "execute_result"
    }
   ],
   "source": [
    "df"
   ]
  },
  {
   "cell_type": "markdown",
   "id": "ff1f8a58",
   "metadata": {},
   "source": [
    "Cool, there's one more thing we need to do before training our model, but first, since we replaced the categorical data, we no longer need them in our dataset."
   ]
  },
  {
   "cell_type": "code",
   "execution_count": 14,
   "id": "16023ed3",
   "metadata": {
    "scrolled": false
   },
   "outputs": [],
   "source": [
    "df.drop(columns=['state','city_or_county','date'], inplace = True)"
   ]
  },
  {
   "cell_type": "markdown",
   "id": "3360bde0",
   "metadata": {},
   "source": [
    "And of-course, seperate the dependent feature"
   ]
  },
  {
   "cell_type": "code",
   "execution_count": 15,
   "id": "ab2d125e",
   "metadata": {},
   "outputs": [],
   "source": [
    "y_response = df['n_killed']"
   ]
  },
  {
   "cell_type": "code",
   "execution_count": 16,
   "id": "b2822c25",
   "metadata": {},
   "outputs": [],
   "source": [
    "df.drop(columns = ['n_killed'], inplace = True)"
   ]
  },
  {
   "cell_type": "markdown",
   "id": "0fe6e354",
   "metadata": {},
   "source": [
    "### Scaling"
   ]
  },
  {
   "cell_type": "markdown",
   "id": "7cf447e8",
   "metadata": {},
   "source": [
    "Let's take a look at a boxplot of the feature set"
   ]
  },
  {
   "cell_type": "code",
   "execution_count": 17,
   "id": "9e19d448",
   "metadata": {},
   "outputs": [],
   "source": [
    "import seaborn as sns"
   ]
  },
  {
   "cell_type": "code",
   "execution_count": 18,
   "id": "0ec6783f",
   "metadata": {},
   "outputs": [
    {
     "data": {
      "image/png": "[encoded data removed]",
      "text/plain": [
       "<Figure size 640x480 with 1 Axes>"
      ]
     },
     "metadata": {},
     "output_type": "display_data"
    }
   ],
   "source": [
    "f = sns.boxplot(data=df)\n",
    "a = f.set_xticklabels(f.get_xticklabels(), rotation=40, ha=\"right\")"
   ]
  },
  {
   "cell_type": "markdown",
   "id": "fd307f2e",
   "metadata": {},
   "source": [
    "We can see the difference in the range of values in each set, it's important to me for the model to not misinterpret features as important or not important, as i'm seeking to learn the true effects of the independent features on the dependent.\n",
    "\n",
    "thus we'll scale the data and have an another look"
   ]
  },
  {
   "cell_type": "code",
   "execution_count": 19,
   "id": "fb7c0f2b",
   "metadata": {},
   "outputs": [],
   "source": [
    "from sklearn.preprocessing import StandardScaler"
   ]
  },
  {
   "cell_type": "code",
   "execution_count": 20,
   "id": "d0fc3608",
   "metadata": {},
   "outputs": [
    {
     "data": {
      "image/png": "[encoded data removed]",
      "text/plain": [
       "<Figure size 640x480 with 1 Axes>"
      ]
     },
     "metadata": {},
     "output_type": "display_data"
    }
   ],
   "source": [
    "scaler = StandardScaler()\n",
    "df_normalized = pd.DataFrame(scaler.fit_transform(df), columns=df.columns)\n",
    "\n",
    "\n",
    "f = sns.boxplot(data=df_normalized)\n",
    "f.set_title(\"boxplot of the standarized dataset\")\n",
    "a = f.set_xticklabels(f.get_xticklabels(), rotation=40, ha=\"right\")"
   ]
  },
  {
   "cell_type": "markdown",
   "id": "81551b44",
   "metadata": {},
   "source": [
    "Much better :), Let's move on to training our models."
   ]
  },
  {
   "cell_type": "markdown",
   "id": "f284a3c4",
   "metadata": {},
   "source": [
    "### Training the models, and the training metric"
   ]
  },
  {
   "cell_type": "markdown",
   "id": "58370306",
   "metadata": {},
   "source": [
    "After revising the preprocessing previous part around 1000 times, and finally settling down for how to better handle the data, let's move on to choosing and training our models"
   ]
  },
  {
   "cell_type": "markdown",
   "id": "78abea9f",
   "metadata": {},
   "source": [
    "At first, i wanted to train a linear regression model with MAE for the reason of the response data having very small variance (99% in the range 0-3), i didn't want the model to give that much of a focus on the outliers, which are crimes with high number of victims, as they are only a few."
   ]
  },
  {
   "cell_type": "markdown",
   "id": "4c3f3911",
   "metadata": {},
   "source": [
    "After looking for a somewhat of alot of time for models which are trained with MAE (mainly linear regression), and can be done so without any additional 'indirect' ways to do so (i know my lack of experience was a factor), i remembered the way we handled outliers in class, and since they're only very few, and in reality almost rare, the solution of removing them from the set both stopped me from worrying about the model being a bit more 'biased' towards outliers, and saved me the hassle of having to train a model with MAE in an undirect way, rather a clean code and understood method."
   ]
  },
  {
   "cell_type": "markdown",
   "id": "dfc6da98",
   "metadata": {},
   "source": [
    "We'll do that in a bit, for now i chose these 2 models to train on my data\n",
    "\n",
    "- **Linear Regression model with MSE**, as i want to test the linear relationship between the feature set and the response, it's interesting to see how 'linear' the relationship actually is, and how accurate it might be, this model although might overlook a more complex relationship between the feature set and the response, as it is simply linear.\n",
    "- **KNN** - i believe if there was a similarity, somehow, between the stats of the crime, and how many people died, KNN will be able to find it, it's interesting to put that to test, the only disadvantage is to remember that even if this model performs well, it's probably a bit more complicated than that, but any way, i think we need more features and info to really get a grip on how the real-situation really behaves."
   ]
  },
  {
   "cell_type": "markdown",
   "id": "febb690a",
   "metadata": {},
   "source": [
    "### Linear Regression model"
   ]
  },
  {
   "cell_type": "code",
   "execution_count": 21,
   "id": "e8edbc6e",
   "metadata": {},
   "outputs": [],
   "source": [
    "from sklearn.model_selection import train_test_split\n",
    "from sklearn.linear_model import LinearRegression\n",
    "import plotly as plt\n",
    "import numpy as np"
   ]
  },
  {
   "cell_type": "code",
   "execution_count": 22,
   "id": "36bec5a1",
   "metadata": {},
   "outputs": [],
   "source": [
    "x_train, x_test, y_train, y_test = train_test_split(df, y_response, test_size = 0.5)"
   ]
  },
  {
   "cell_type": "code",
   "execution_count": 23,
   "id": "bbc11187",
   "metadata": {},
   "outputs": [
    {
     "data": {
      "text/plain": [
       "LinearRegression()"
      ]
     },
     "execution_count": 23,
     "metadata": {},
     "output_type": "execute_result"
    }
   ],
   "source": [
    "lin_reg = LinearRegression()\n",
    "lin_reg.fit(x_train, y_train)"
   ]
  },
  {
   "cell_type": "markdown",
   "id": "e32d2518",
   "metadata": {},
   "source": [
    "Before checking the performance of the linear mode, let's get a sneak peek on it's coeffs"
   ]
  },
  {
   "cell_type": "code",
   "execution_count": 24,
   "id": "817bb533",
   "metadata": {},
   "outputs": [
    {
     "data": {
      "text/html": [
       "<div>\n",
       "<style scoped>\n",
       "    .dataframe tbody tr th:only-of-type {\n",
       "        vertical-align: middle;\n",
       "    }\n",
       "\n",
       "    .dataframe tbody tr th {\n",
       "        vertical-align: top;\n",
       "    }\n",
       "\n",
       "    .dataframe thead th {\n",
       "        text-align: right;\n",
       "    }\n",
       "</style>\n",
       "<table border=\"1\" class=\"dataframe\">\n",
       "  <thead>\n",
       "    <tr style=\"text-align: right;\">\n",
       "      <th></th>\n",
       "      <th>Coeff</th>\n",
       "    </tr>\n",
       "  </thead>\n",
       "  <tbody>\n",
       "    <tr>\n",
       "      <th>n_injured</th>\n",
       "      <td>-0.125870</td>\n",
       "    </tr>\n",
       "    <tr>\n",
       "      <th>latitude</th>\n",
       "      <td>-0.008788</td>\n",
       "    </tr>\n",
       "    <tr>\n",
       "      <th>longitude</th>\n",
       "      <td>-0.002474</td>\n",
       "    </tr>\n",
       "    <tr>\n",
       "      <th>county_month_count</th>\n",
       "      <td>0.000607</td>\n",
       "    </tr>\n",
       "    <tr>\n",
       "      <th>state_month_count</th>\n",
       "      <td>-0.000627</td>\n",
       "    </tr>\n",
       "  </tbody>\n",
       "</table>\n",
       "</div>"
      ],
      "text/plain": [
       "                       Coeff\n",
       "n_injured          -0.125870\n",
       "latitude           -0.008788\n",
       "longitude          -0.002474\n",
       "county_month_count  0.000607\n",
       "state_month_count  -0.000627"
      ]
     },
     "execution_count": 24,
     "metadata": {},
     "output_type": "execute_result"
    }
   ],
   "source": [
    "pd.DataFrame(lin_reg.coef_, df.columns, columns = ['Coeff'])"
   ]
  },
  {
   "cell_type": "markdown",
   "id": "2d0c3c4a",
   "metadata": {},
   "source": [
    "Even with scaling, the coefficients are pretty minor, which probably indicates on a weak connection between the feature set and the dependant variable."
   ]
  },
  {
   "cell_type": "markdown",
   "id": "126db401",
   "metadata": {},
   "source": [
    "In order to be able to better predict the data, we'll do 2 transformations on the predicted values of the model\n",
    "- **floor** the values - there can't be a 1.5 or 1.3 people killed, so we'll round it down to the lower integer.\n",
    "- **abs** the values - a negative value is invalid for our prediction, so we'll try the absolute of the data and check our error to see if it was a good idea or not."
   ]
  },
  {
   "cell_type": "code",
   "execution_count": 25,
   "id": "4bd262a4",
   "metadata": {},
   "outputs": [
    {
     "data": {
      "text/plain": [
       "0.24901397152216057"
      ]
     },
     "execution_count": 25,
     "metadata": {},
     "output_type": "execute_result"
    }
   ],
   "source": [
    "y_predicted = lin_reg.predict(x_test)\n",
    "y_predicted = np.floor(np.abs(y_predicted))\n",
    "def mae(y_true, predictions):\n",
    "    y_true, predictions = np.array(y_true), np.array(predictions)\n",
    "    return np.mean(np.abs(y_true - predictions))\n",
    "mae(y_predicted, y_test)"
   ]
  },
  {
   "cell_type": "markdown",
   "id": "74f9fdc2",
   "metadata": {},
   "source": [
    "in realtion to the response variance"
   ]
  },
  {
   "cell_type": "code",
   "execution_count": 26,
   "id": "042f5cc0",
   "metadata": {},
   "outputs": [
    {
     "data": {
      "text/plain": [
       "0.24865777216733045"
      ]
     },
     "execution_count": 26,
     "metadata": {},
     "output_type": "execute_result"
    }
   ],
   "source": [
    "y_test.var()"
   ]
  },
  {
   "cell_type": "markdown",
   "id": "391ad686",
   "metadata": {},
   "source": [
    "I believe the linear model sucks at predicting dead people."
   ]
  },
  {
   "cell_type": "markdown",
   "id": "f59584ae",
   "metadata": {},
   "source": [
    "let's plot the distrubtion of the values"
   ]
  },
  {
   "cell_type": "code",
   "execution_count": 27,
   "id": "403ea38f",
   "metadata": {
    "scrolled": false
   },
   "outputs": [
    {
     "data": {
      "text/plain": [
       "Text(0.5, 1.0, 'predicted n_killed value distribution with true distribution')"
      ]
     },
     "execution_count": 27,
     "metadata": {},
     "output_type": "execute_result"
    },
    {
     "data": {
      "image/png": "[encoded data removed]",
      "text/plain": [
       "<Figure size 1000x500 with 1 Axes>"
      ]
     },
     "metadata": {},
     "output_type": "display_data"
    }
   ],
   "source": [
    "import matplotlib.pyplot as plt\n",
    "import seaborn as sns\n",
    "\n",
    "f,ax=plt.subplots(1,1,figsize=(10,5))\n",
    "sns.histplot(data=y_test, color=\"cyan\", label=\"true\", stat=\"density\", binwidth=2)\n",
    "sns.histplot(data=y_predicted, color=\"red\", label=\"predicted\", stat=\"density\", binwidth=2)\n",
    "plt.legend(title=\"n_killed\")\n",
    "ax.set_title(\"predicted n_killed value distribution with true distribution\")"
   ]
  },
  {
   "cell_type": "markdown",
   "id": "fa20d9f6",
   "metadata": {},
   "source": [
    "We can see that the model predicted many more 0's than 1's, this can mostly rise from the fact the we 'floored' our data as to not allow for fractions, which means that our predictions were very much dependant on the way we decided to classify and handle our data, for this particular dataset flooring the values helped reduce the MAE error and better classification, since our dataset had more cases that had 0 people killed than any other value in the data set."
   ]
  },
  {
   "cell_type": "markdown",
   "id": "b666b1dc",
   "metadata": {},
   "source": [
    "I believe a better handling of the data can be applied, and a better 'cutoff' can be found, maybe using the hyperparameter functions we learned in class."
   ]
  },
  {
   "cell_type": "markdown",
   "id": "24d72fe9",
   "metadata": {},
   "source": [
    "moving on"
   ]
  },
  {
   "cell_type": "markdown",
   "id": "521b52ae",
   "metadata": {},
   "source": [
    "### KNN"
   ]
  },
  {
   "cell_type": "code",
   "execution_count": 28,
   "id": "92e1dab6",
   "metadata": {},
   "outputs": [],
   "source": [
    "from sklearn.neighbors import KNeighborsClassifier"
   ]
  },
  {
   "cell_type": "code",
   "execution_count": 29,
   "id": "ece6c61b",
   "metadata": {},
   "outputs": [
    {
     "data": {
      "text/plain": [
       "KNeighborsClassifier(n_neighbors=7)"
      ]
     },
     "execution_count": 29,
     "metadata": {},
     "output_type": "execute_result"
    }
   ],
   "source": [
    "knn = KNeighborsClassifier(n_neighbors=7)\n",
    "knn.fit(x_train, y_train)"
   ]
  },
  {
   "cell_type": "code",
   "execution_count": 30,
   "id": "a598914d",
   "metadata": {},
   "outputs": [
    {
     "name": "stderr",
     "output_type": "stream",
     "text": [
      "/Users/lucas/opt/anaconda3/lib/python3.9/site-packages/sklearn/neighbors/_classification.py:228: FutureWarning: Unlike other reduction functions (e.g. `skew`, `kurtosis`), the default behavior of `mode` typically preserves the axis it acts along. In SciPy 1.11.0, this behavior will change: the default value of `keepdims` will become False, the `axis` over which the statistic is taken will be eliminated, and the value None will no longer be accepted. Set `keepdims` to True or False to avoid this warning.\n",
      "  mode, _ = stats.mode(_y[neigh_ind, k], axis=1)\n"
     ]
    }
   ],
   "source": [
    "y_pred = knn.predict(x_test)"
   ]
  },
  {
   "cell_type": "markdown",
   "id": "8cc21435",
   "metadata": {},
   "source": [
    "let's check the MAE error of the classifier, and compare with the linear model"
   ]
  },
  {
   "cell_type": "code",
   "execution_count": 31,
   "id": "4449dfeb",
   "metadata": {},
   "outputs": [
    {
     "data": {
      "text/plain": [
       "0.2615148071395147"
      ]
     },
     "execution_count": 31,
     "metadata": {},
     "output_type": "execute_result"
    }
   ],
   "source": [
    "mae(y_pred, y_test)"
   ]
  },
  {
   "cell_type": "markdown",
   "id": "beb33288",
   "metadata": {},
   "source": [
    "In a way i kinda expected it to perform better than the linear regression model, as it focuses more on the similarities in the data among other samples, i had a small hunch and a bit of worry about how it would perform, but  i'm not too surprised"
   ]
  },
  {
   "cell_type": "markdown",
   "id": "572610b7",
   "metadata": {},
   "source": [
    "Let's also plot the predicted values and the true ones by their distributions"
   ]
  },
  {
   "cell_type": "code",
   "execution_count": 32,
   "id": "45f5b09c",
   "metadata": {},
   "outputs": [],
   "source": [
    "import matplotlib.pyplot as plt\n",
    "import seaborn as sns"
   ]
  },
  {
   "cell_type": "code",
   "execution_count": 33,
   "id": "2b740e65",
   "metadata": {
    "scrolled": false
   },
   "outputs": [
    {
     "data": {
      "text/plain": [
       "Text(0.5, 1.0, 'predicted n_killed value distribution with true distribution')"
      ]
     },
     "execution_count": 33,
     "metadata": {},
     "output_type": "execute_result"
    },
    {
     "data": {
      "image/png": "[encoded data removed]",
      "text/plain": [
       "<Figure size 1000x500 with 1 Axes>"
      ]
     },
     "metadata": {},
     "output_type": "display_data"
    }
   ],
   "source": [
    "f,ax=plt.subplots(1,1,figsize=(10,5))\n",
    "sns.histplot(data=y_test, color=\"cyan\", label=\"true\", stat=\"probability\", binwidth=2, kde=True)\n",
    "sns.histplot(data=y_pred, color=\"red\", label=\"predicted\", stat=\"probability\", binwidth=2, kde=True)\n",
    "plt.legend(title=\"n_killed\")\n",
    "ax.set_title(\"predicted n_killed value distribution with true distribution\")"
   ]
  },
  {
   "cell_type": "markdown",
   "id": "81d7cc2f",
   "metadata": {},
   "source": [
    "We can see it a tiny bit clearly throught the lines, as the boxes are close to eachother, the difference between the true and the predicted aren't huge, and it seems the KNN model classified alot more cases as having 0 people killed, while it seems it should've classified it as 1, hence the lower line around the value"
   ]
  },
  {
   "cell_type": "markdown",
   "id": "5a72a5c2",
   "metadata": {},
   "source": [
    "## Question 2"
   ]
  },
  {
   "cell_type": "markdown",
   "id": "3e065dfc",
   "metadata": {},
   "source": [
    "In this section, let's use the model version of a Linear Regression model on steroids, SVM (i feel sorry for my computer for the upcoming part)."
   ]
  },
  {
   "cell_type": "code",
   "execution_count": 34,
   "id": "f3c57935",
   "metadata": {},
   "outputs": [],
   "source": [
    "from sklearn.svm import SVC\n",
    "from sklearn.metrics import accuracy_score\n",
    "from sklearn.model_selection import RandomizedSearchCV,GridSearchCV, cross_val_score\n",
    "from sklearn.metrics import make_scorer\n",
    "from sklearn.ensemble import RandomForestClassifier"
   ]
  },
  {
   "cell_type": "markdown",
   "id": "063a3f4d",
   "metadata": {},
   "source": [
    "We'll control the C along with the degree, and plot the accuracy on the way\n",
    "\n",
    "Let's define the boundaries first"
   ]
  },
  {
   "cell_type": "code",
   "execution_count": 35,
   "id": "262fe661",
   "metadata": {},
   "outputs": [],
   "source": [
    "params_grid = { \n",
    "    'degree': [1,2,3,4,5],\n",
    "    'C': [1,5,10,20,30],\n",
    "}"
   ]
  },
  {
   "cell_type": "code",
   "execution_count": 36,
   "id": "b1d519f4",
   "metadata": {},
   "outputs": [],
   "source": [
    "x_train1, x_test1, y_train1, y_test1 = train_test_split(df, y_response, test_size = 0.5)"
   ]
  },
  {
   "cell_type": "markdown",
   "id": "57699b8c",
   "metadata": {},
   "source": [
    "### Grid Search"
   ]
  },
  {
   "cell_type": "code",
   "execution_count": 37,
   "id": "e84f445e",
   "metadata": {},
   "outputs": [
    {
     "name": "stdout",
     "output_type": "stream",
     "text": [
      "n_configs 25\n",
      "Done grid search\n"
     ]
    }
   ],
   "source": [
    "model = SVC(kernel='linear')\n",
    "\n",
    "n_configs = np.array([len(l) for key, l in params_grid.items()]).prod()\n",
    "print('n_configs', n_configs)\n",
    "\n",
    "grid = GridSearchCV(estimator=model, param_grid=params_grid, cv=3,verbose=1 ,scoring=make_scorer(accuracy_score))\n",
    "\n",
    "grid.fit(x_train1, y_train1)\n",
    "\n",
    "print(\"Done grid search\")"
   ]
  },
  {
   "cell_type": "code",
   "execution_count": 38,
   "id": "bcd28be5",
   "metadata": {},
   "outputs": [],
   "source": [
    "print('Best parameters found in Grid Search', grid.best_params_)\n",
    "print('Best score in Grid Search', grid.best_score_)\n",
    "model_gs = grid.best_estimator_"
   ]
  },
  {
   "cell_type": "markdown",
   "id": "6c06708c",
   "metadata": {},
   "source": [
    "Viola! took only 40 mins"
   ]
  },
  {
   "cell_type": "markdown",
   "id": "1a00a085",
   "metadata": {},
   "source": [
    "### Random Search"
   ]
  },
  {
   "cell_type": "markdown",
   "id": "51ca84d8",
   "metadata": {},
   "source": [
    "As to condole my laptop with the previous part, i want to check how Random Search will do, how efficient and accurate it is than the Grid Search."
   ]
  },
  {
   "cell_type": "markdown",
   "id": "6f8571c0",
   "metadata": {},
   "source": [
    "Similar to class"
   ]
  },
  {
   "cell_type": "code",
   "execution_count": 39,
   "id": "73d54462",
   "metadata": {
    "scrolled": true
   },
   "outputs": [
    {
     "name": "stdout",
     "output_type": "stream",
     "text": [
      "Done random search\n"
     ]
    }
   ],
   "source": [
    "from scipy.stats import randint\n",
    "\n",
    "rs = RandomizedSearchCV(estimator=model, param_distributions=params_grid, cv=3, verbose=1, scoring=make_scorer(accuracy_score), n_iter=n_configs)\n",
    "\n",
    "rs.fit(x_train1, y_train1)\n",
    "\n",
    "print(\"Done random search\")"
   ]
  },
  {
   "cell_type": "markdown",
   "id": "f28b0afc",
   "metadata": {},
   "source": [
    "## Question 3"
   ]
  },
  {
   "cell_type": "markdown",
   "id": "8c3acc00",
   "metadata": {},
   "source": [
    "### (a) Reusing the model"
   ]
  },
  {
   "cell_type": "markdown",
   "id": "45adbc3a",
   "metadata": {},
   "source": [
    "In this section, for simplicity, we'll reuse the linear model we trained in Question 1."
   ]
  },
  {
   "cell_type": "markdown",
   "id": "40cd85b8",
   "metadata": {},
   "source": [
    "We saw it's MAE on the test data, but we didnt get a better look on it's coefficients, let's use the Permutation feature importance we saw in class, and see the results."
   ]
  },
  {
   "cell_type": "code",
   "execution_count": 40,
   "id": "cab2df5d",
   "metadata": {},
   "outputs": [],
   "source": [
    "from sklearn.inspection import permutation_importance"
   ]
  },
  {
   "cell_type": "code",
   "execution_count": 41,
   "id": "390f499a",
   "metadata": {},
   "outputs": [
    {
     "data": {
      "text/plain": [
       "<AxesSubplot:>"
      ]
     },
     "execution_count": 41,
     "metadata": {},
     "output_type": "execute_result"
    },
    {
     "data": {
      "image/png": "[encoded data removed]",
      "text/plain": [
       "<Figure size 640x480 with 1 Axes>"
      ]
     },
     "metadata": {},
     "output_type": "display_data"
    }
   ],
   "source": [
    "result = permutation_importance(lin_reg, x_train, y_train, n_repeats=10, random_state=1)\n",
    "feature_importances = sorted(list(zip(x_train.columns, result['importances_mean'])), key=lambda x: -x[1])\n",
    "columns = list(list(zip(*feature_importances))[0])\n",
    "importances = list(list(zip(*feature_importances))[1])\n",
    "sns.barplot(x=columns, y=importances)"
   ]
  },
  {
   "cell_type": "markdown",
   "id": "05328f0f",
   "metadata": {},
   "source": [
    "Again, the value distribution of the features were scaled, so we see here an accurate representation of the effect of each feature on the response, **n_injured** is the feature that contributed the most, and we can see that much more than any other feature we added."
   ]
  },
  {
   "cell_type": "markdown",
   "id": "5d2bd91d",
   "metadata": {},
   "source": [
    "### (b) Separating the features"
   ]
  },
  {
   "cell_type": "markdown",
   "id": "bbde61ff",
   "metadata": {},
   "source": [
    "Let's train yet another 2 regression models, one only on the **n_injured** feature, and the other with the rest, and check out their "
   ]
  },
  {
   "cell_type": "code",
   "execution_count": 42,
   "id": "3fec9080",
   "metadata": {},
   "outputs": [],
   "source": [
    "x_train, x_test, y_train, y_test = train_test_split(df, y_response, test_size = 0.5)"
   ]
  },
  {
   "cell_type": "code",
   "execution_count": 43,
   "id": "84859012",
   "metadata": {},
   "outputs": [],
   "source": [
    "model1 = LinearRegression()\n",
    "model2 = LinearRegression()\n",
    "\n",
    "x_train_data_1 = x_train['n_injured']\n",
    "x_train_data_2 = x_train.drop(columns=['n_injured'])\n",
    "x_test_data_1 = x_test['n_injured'].values.reshape(-1,1)\n",
    "x_test_data_2 = x_test.drop(columns=['n_injured'])"
   ]
  },
  {
   "cell_type": "code",
   "execution_count": 44,
   "id": "ca9b9f07",
   "metadata": {},
   "outputs": [
    {
     "data": {
      "text/plain": [
       "LinearRegression()"
      ]
     },
     "execution_count": 44,
     "metadata": {},
     "output_type": "execute_result"
    }
   ],
   "source": [
    "model1.fit(x_train_data_1.values.reshape(-1,1), y_train)\n",
    "model2.fit(x_train_data_2, y_train)"
   ]
  },
  {
   "cell_type": "code",
   "execution_count": 46,
   "id": "dbd94698",
   "metadata": {},
   "outputs": [],
   "source": [
    "model1_mae = mae(model1.predict(x_test_data_1), y_test)\n",
    "model2_mae = mae(model2.predict(x_test_data_2), y_test)"
   ]
  },
  {
   "cell_type": "code",
   "execution_count": 47,
   "id": "de4f6fc4",
   "metadata": {},
   "outputs": [
    {
     "data": {
      "text/plain": [
       "<AxesSubplot:>"
      ]
     },
     "execution_count": 47,
     "metadata": {},
     "output_type": "execute_result"
    },
    {
     "data": {
      "image/png": "[encoded data removed]",
      "text/plain": [
       "<Figure size 640x480 with 1 Axes>"
      ]
     },
     "metadata": {},
     "output_type": "display_data"
    }
   ],
   "source": [
    "sns.barplot(x=['model1','model2'], y=[model1_mae, model2_mae])"
   ]
  },
  {
   "cell_type": "markdown",
   "id": "037a5309",
   "metadata": {},
   "source": [
    "Woah, surprisingly, we can see that model2 actually performed better than the most important feature!, pretty cool.\n",
    "\n",
    "The real question is, why, maybe the n_injured feature, although important but a tiny bit problamatic, and it 'shadowed' the other features somehow in the previous model.\n",
    "\n",
    "But as a model that wasn't trained with the mean feature, it did quite amazingly."
   ]
  },
  {
   "cell_type": "markdown",
   "id": "64490e20",
   "metadata": {},
   "source": [
    "Let's look at the featues of the 2"
   ]
  },
  {
   "cell_type": "code",
   "execution_count": 48,
   "id": "5766814f",
   "metadata": {},
   "outputs": [
    {
     "data": {
      "text/plain": [
       "<AxesSubplot:>"
      ]
     },
     "execution_count": 48,
     "metadata": {},
     "output_type": "execute_result"
    },
    {
     "data": {
      "image/png": "[encoded data removed]",
      "text/plain": [
       "<Figure size 640x480 with 1 Axes>"
      ]
     },
     "metadata": {},
     "output_type": "display_data"
    }
   ],
   "source": [
    "sns.barplot(x=list(x_train_data_2.columns),y=model2.coef_.flatten())"
   ]
  },
  {
   "cell_type": "markdown",
   "id": "471abda6",
   "metadata": {},
   "source": [
    "I have to say i'm quite confused at this point, i'm really surprised, but if what i see is true, doesn't it mean that people who live higher are less likely to killeachother? does less oxygen=less killy killy? \n",
    "\n",
    "Nah come on, let's think about this logically, usually larger cities are located on a lower latitude, and cities on a high altitude, since they have the issue of being on moutains or between them, seem to be more...scattereed, meaning they're much smaller, as the density of people living there can't be high due to that fact, which means that in larger cities on a lower latitude more crimes are reported, --**maybe** that's one factor that might contribute to the explination we see here."
   ]
  }
 ],
 "metadata": {
  "kernelspec": {
   "display_name": "Python 3 (ipykernel)",
   "language": "python",
   "name": "python3"
  },
  "language_info": {
   "codemirror_mode": {
    "name": "ipython",
    "version": 3
   },
   "file_extension": ".py",
   "mimetype": "text/x-python",
   "name": "python",
   "nbconvert_exporter": "python",
   "pygments_lexer": "ipython3",
   "version": "3.9.13"
  }
 },
 "nbformat": 4,
 "nbformat_minor": 5
}
